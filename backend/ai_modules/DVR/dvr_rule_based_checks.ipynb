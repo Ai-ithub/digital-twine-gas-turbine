{
  "nbformat": 4,
  "nbformat_minor": 0,
  "metadata": {
    "colab": {
      "provenance": []
    },
    "kernelspec": {
      "name": "python3",
      "display_name": "Python 3"
    },
    "language_info": {
      "name": "python"
    }
  },
  "cells": [
    {
      "cell_type": "markdown",
      "source": [
        "# Rule-Based Sensor Data Validation\n",
        "\n",
        "### 🎯 Objective:\n",
        "Apply domain-specific rules to detect invalid sensor readings using simple thresholds and physics-informed logic.\n",
        "\n",
        "---\n",
        "\n",
        "### 📌 Rules Defined:\n",
        "\n",
        "| Feature         | Validation Rule                       | Justification                          |\n",
        "|----------------|----------------------------------------|----------------------------------------|\n",
        "| Pressure_In     | 2.0 < value < 6.0 bar                  | Based on compressor operating range    |\n",
        "| Temperature_In  | -20°C < value < 100°C                 | Operating bounds for inlet air         |\n",
        "| Flow_Rate       | value > 0                             | Flow must be positive                  |\n",
        "| Efficiency      | 0.75 < value < 0.95                   | Mechanical efficiency expected range   |\n",
        "| Vibration       | value < 5 mm/s                        | High values indicate mechanical fault  |\n"
      ],
      "metadata": {
        "id": "AehZBhnuEr3u"
      }
    },
    {
      "cell_type": "markdown",
      "source": [
        "### function for applying rules"
      ],
      "metadata": {
        "id": "LO865IBQEwxg"
      }
    },
    {
      "cell_type": "code",
      "execution_count": null,
      "metadata": {
        "id": "i8Mj4J83EgPk"
      },
      "outputs": [],
      "source": [
        "# Copy of the rules applied to a DataFrame\n",
        "def apply_validation_rules(df):\n",
        "    valid = pd.Series(True, index=df.index)\n",
        "\n",
        "    valid &= df[\"Pressure_In\"].between(2.0, 6.0)\n",
        "    valid &= df[\"Temperature_In\"].between(-20, 100)\n",
        "    valid &= df[\"Flow_Rate\"] > 0\n",
        "    valid &= df[\"Efficiency\"].between(0.75, 0.95)\n",
        "    valid &= df[\"Vibration\"] < 5\n",
        "\n",
        "    return valid"
      ]
    },
    {
      "cell_type": "code",
      "source": [
        "# Apply rules to real data\n",
        "valid_mask = apply_validation_rules(df)\n",
        "invalid_rows = df[~valid_mask]\n",
        "\n",
        "print(f\"Number of invalid rows detected: {len(invalid_rows)}\")"
      ],
      "metadata": {
        "id": "srB6wC8bE8Bj"
      },
      "execution_count": null,
      "outputs": []
    },
    {
      "cell_type": "markdown",
      "source": [
        "### Visualize"
      ],
      "metadata": {
        "id": "BW2JpfAAE927"
      }
    },
    {
      "cell_type": "code",
      "source": [
        "# Visualize invalid vs. valid\n",
        "import seaborn as sns\n",
        "\n",
        "df_copy = df.copy()\n",
        "df_copy[\"Validity\"] = valid_mask.replace({True: \"Valid\", False: \"Invalid\"})\n",
        "\n",
        "sns.pairplot(df_copy, hue=\"Validity\", diag_kind=\"kde\", corner=True)\n",
        "plt.suptitle(\"Validation Result: Feature Distribution\")\n",
        "plt.show()\n"
      ],
      "metadata": {
        "id": "fIWYBzhxFAIA"
      },
      "execution_count": null,
      "outputs": []
    },
    {
      "cell_type": "markdown",
      "source": [
        "### further changes..."
      ],
      "metadata": {
        "id": "Xy-rFpdOFDfU"
      }
    }
  ]
}