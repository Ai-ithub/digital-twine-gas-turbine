{
 "cells": [
  {
   "cell_type": "markdown",
   "id": "05cfc289-1adb-403e-95c1-ab25849f567f",
   "metadata": {},
   "source": [
    "# Import libraries"
   ]
  },
  {
   "cell_type": "code",
   "execution_count": 50,
   "id": "ebc2e04e-6b0f-4bd2-b744-c1094803466c",
   "metadata": {},
   "outputs": [],
   "source": [
    "import pandas as pd\n",
    "import numpy as np\n",
    "import matplotlib.pyplot as plt\n",
    "import seaborn as sns"
   ]
  },
  {
   "cell_type": "markdown",
   "id": "41d24586-aa6a-47c7-a436-3c5019243fbd",
   "metadata": {},
   "source": [
    "# Load dataset"
   ]
  },
  {
   "cell_type": "code",
   "execution_count": 51,
   "id": "bdad12e7-da65-4de8-99e2-55b98a11b76d",
   "metadata": {},
   "outputs": [
    {
     "name": "stdout",
     "output_type": "stream",
     "text": [
      "Shape of dataset: (100000, 43)\n"
     ]
    },
    {
     "data": {
      "text/html": [
       "<div>\n",
       "<style scoped>\n",
       "    .dataframe tbody tr th:only-of-type {\n",
       "        vertical-align: middle;\n",
       "    }\n",
       "\n",
       "    .dataframe tbody tr th {\n",
       "        vertical-align: top;\n",
       "    }\n",
       "\n",
       "    .dataframe thead th {\n",
       "        text-align: right;\n",
       "    }\n",
       "</style>\n",
       "<table border=\"1\" class=\"dataframe\">\n",
       "  <thead>\n",
       "    <tr style=\"text-align: right;\">\n",
       "      <th></th>\n",
       "      <th>Timestamp</th>\n",
       "      <th>Time</th>\n",
       "      <th>Pressure_In</th>\n",
       "      <th>Temperature_In</th>\n",
       "      <th>Flow_Rate</th>\n",
       "      <th>Pressure_Out</th>\n",
       "      <th>Temperature_Out</th>\n",
       "      <th>Efficiency</th>\n",
       "      <th>Power_Consumption</th>\n",
       "      <th>Vibration</th>\n",
       "      <th>...</th>\n",
       "      <th>Velocity</th>\n",
       "      <th>Viscosity</th>\n",
       "      <th>Phase_Angle</th>\n",
       "      <th>vib_min</th>\n",
       "      <th>vib_rms</th>\n",
       "      <th>Pressure_In_Filtered</th>\n",
       "      <th>Temperature_In_Filtered</th>\n",
       "      <th>Label</th>\n",
       "      <th>Flow_Rate_Filtered</th>\n",
       "      <th>Vibration_Filtered</th>\n",
       "    </tr>\n",
       "  </thead>\n",
       "  <tbody>\n",
       "    <tr>\n",
       "      <th>0</th>\n",
       "      <td>2025-01-01 00:00:00</td>\n",
       "      <td>0</td>\n",
       "      <td>3.524836</td>\n",
       "      <td>25.880595</td>\n",
       "      <td>12.156184</td>\n",
       "      <td>17.436829</td>\n",
       "      <td>203.077815</td>\n",
       "      <td>0.813001</td>\n",
       "      <td>5803.345268</td>\n",
       "      <td>1.151771</td>\n",
       "      <td>...</td>\n",
       "      <td>30.063063</td>\n",
       "      <td>0.00001</td>\n",
       "      <td>183.382071</td>\n",
       "      <td>0.523325</td>\n",
       "      <td>1.151771</td>\n",
       "      <td>3.524836</td>\n",
       "      <td>25.880595</td>\n",
       "      <td>1.0</td>\n",
       "      <td>12.156184</td>\n",
       "      <td>1.151771</td>\n",
       "    </tr>\n",
       "    <tr>\n",
       "      <th>1</th>\n",
       "      <td>2025-01-01 00:00:01</td>\n",
       "      <td>1</td>\n",
       "      <td>3.503083</td>\n",
       "      <td>23.692395</td>\n",
       "      <td>12.010572</td>\n",
       "      <td>17.406759</td>\n",
       "      <td>197.494853</td>\n",
       "      <td>0.823139</td>\n",
       "      <td>5554.713072</td>\n",
       "      <td>1.010584</td>\n",
       "      <td>...</td>\n",
       "      <td>31.895808</td>\n",
       "      <td>0.00001</td>\n",
       "      <td>183.198709</td>\n",
       "      <td>0.523325</td>\n",
       "      <td>1.010584</td>\n",
       "      <td>3.511784</td>\n",
       "      <td>24.567675</td>\n",
       "      <td>0.0</td>\n",
       "      <td>12.068817</td>\n",
       "      <td>1.067059</td>\n",
       "    </tr>\n",
       "    <tr>\n",
       "      <th>2</th>\n",
       "      <td>2025-01-01 00:00:02</td>\n",
       "      <td>2</td>\n",
       "      <td>3.552351</td>\n",
       "      <td>25.416440</td>\n",
       "      <td>11.907004</td>\n",
       "      <td>17.954038</td>\n",
       "      <td>203.341908</td>\n",
       "      <td>0.820196</td>\n",
       "      <td>5657.678081</td>\n",
       "      <td>0.949326</td>\n",
       "      <td>...</td>\n",
       "      <td>31.005970</td>\n",
       "      <td>0.00001</td>\n",
       "      <td>183.712548</td>\n",
       "      <td>0.523325</td>\n",
       "      <td>0.949326</td>\n",
       "      <td>3.536748</td>\n",
       "      <td>25.089992</td>\n",
       "      <td>0.0</td>\n",
       "      <td>11.969240</td>\n",
       "      <td>0.994608</td>\n",
       "    </tr>\n",
       "    <tr>\n",
       "      <th>3</th>\n",
       "      <td>2025-01-01 00:00:03</td>\n",
       "      <td>3</td>\n",
       "      <td>3.606039</td>\n",
       "      <td>24.210525</td>\n",
       "      <td>11.920992</td>\n",
       "      <td>18.213320</td>\n",
       "      <td>201.438404</td>\n",
       "      <td>0.819783</td>\n",
       "      <td>5644.959322</td>\n",
       "      <td>1.079461</td>\n",
       "      <td>...</td>\n",
       "      <td>30.242627</td>\n",
       "      <td>0.00001</td>\n",
       "      <td>180.863281</td>\n",
       "      <td>0.523325</td>\n",
       "      <td>1.079461</td>\n",
       "      <td>3.579546</td>\n",
       "      <td>24.546792</td>\n",
       "      <td>0.0</td>\n",
       "      <td>11.939440</td>\n",
       "      <td>1.047017</td>\n",
       "    </tr>\n",
       "    <tr>\n",
       "      <th>4</th>\n",
       "      <td>2025-01-01 00:00:04</td>\n",
       "      <td>4</td>\n",
       "      <td>3.528026</td>\n",
       "      <td>24.486640</td>\n",
       "      <td>12.045394</td>\n",
       "      <td>17.854835</td>\n",
       "      <td>200.631142</td>\n",
       "      <td>0.825436</td>\n",
       "      <td>5630.174826</td>\n",
       "      <td>1.068124</td>\n",
       "      <td>...</td>\n",
       "      <td>29.277585</td>\n",
       "      <td>0.00001</td>\n",
       "      <td>184.095677</td>\n",
       "      <td>0.523325</td>\n",
       "      <td>1.068124</td>\n",
       "      <td>3.547708</td>\n",
       "      <td>24.509620</td>\n",
       "      <td>0.0</td>\n",
       "      <td>12.004917</td>\n",
       "      <td>1.060061</td>\n",
       "    </tr>\n",
       "  </tbody>\n",
       "</table>\n",
       "<p>5 rows × 43 columns</p>\n",
       "</div>"
      ],
      "text/plain": [
       "             Timestamp  Time  Pressure_In  Temperature_In  Flow_Rate  \\\n",
       "0  2025-01-01 00:00:00     0     3.524836       25.880595  12.156184   \n",
       "1  2025-01-01 00:00:01     1     3.503083       23.692395  12.010572   \n",
       "2  2025-01-01 00:00:02     2     3.552351       25.416440  11.907004   \n",
       "3  2025-01-01 00:00:03     3     3.606039       24.210525  11.920992   \n",
       "4  2025-01-01 00:00:04     4     3.528026       24.486640  12.045394   \n",
       "\n",
       "   Pressure_Out  Temperature_Out  Efficiency  Power_Consumption  Vibration  \\\n",
       "0     17.436829       203.077815    0.813001        5803.345268   1.151771   \n",
       "1     17.406759       197.494853    0.823139        5554.713072   1.010584   \n",
       "2     17.954038       203.341908    0.820196        5657.678081   0.949326   \n",
       "3     18.213320       201.438404    0.819783        5644.959322   1.079461   \n",
       "4     17.854835       200.631142    0.825436        5630.174826   1.068124   \n",
       "\n",
       "   ...   Velocity  Viscosity  Phase_Angle   vib_min   vib_rms  \\\n",
       "0  ...  30.063063    0.00001   183.382071  0.523325  1.151771   \n",
       "1  ...  31.895808    0.00001   183.198709  0.523325  1.010584   \n",
       "2  ...  31.005970    0.00001   183.712548  0.523325  0.949326   \n",
       "3  ...  30.242627    0.00001   180.863281  0.523325  1.079461   \n",
       "4  ...  29.277585    0.00001   184.095677  0.523325  1.068124   \n",
       "\n",
       "   Pressure_In_Filtered  Temperature_In_Filtered  Label  Flow_Rate_Filtered  \\\n",
       "0              3.524836                25.880595    1.0           12.156184   \n",
       "1              3.511784                24.567675    0.0           12.068817   \n",
       "2              3.536748                25.089992    0.0           11.969240   \n",
       "3              3.579546                24.546792    0.0           11.939440   \n",
       "4              3.547708                24.509620    0.0           12.004917   \n",
       "\n",
       "   Vibration_Filtered  \n",
       "0            1.151771  \n",
       "1            1.067059  \n",
       "2            0.994608  \n",
       "3            1.047017  \n",
       "4            1.060061  \n",
       "\n",
       "[5 rows x 43 columns]"
      ]
     },
     "execution_count": 51,
     "metadata": {},
     "output_type": "execute_result"
    }
   ],
   "source": [
    "df = pd.read_csv(\"C:/Users/98939/Downloads/MASTER_DATASET.csv\")  \n",
    "print(\"Shape of dataset:\", df.shape)\n",
    "df.head()"
   ]
  },
  {
   "cell_type": "markdown",
   "id": "8ce394d8-42c7-48b6-adf5-57230383b4c0",
   "metadata": {},
   "source": [
    "# Selecting Relevant Features for RTO"
   ]
  },
  {
   "cell_type": "code",
   "execution_count": 52,
   "id": "c07e073f-a0fa-46dd-8299-7a13b4141582",
   "metadata": {},
   "outputs": [
    {
     "name": "stdout",
     "output_type": "stream",
     "text": [
      "Cleaned RTO dataframe shape: (99961, 34)\n"
     ]
    },
    {
     "data": {
      "text/plain": [
       "Index(['Pressure_In', 'Temperature_In', 'Flow_Rate', 'Pressure_Out',\n",
       "       'Temperature_Out', 'Efficiency', 'Power_Consumption', 'Vibration',\n",
       "       'Status', 'Ambient_Temperature', 'Humidity', 'Air_Pollution',\n",
       "       'Startup_Shutdown_Cycles', 'Maintenance_Quality', 'Fuel_Quality',\n",
       "       'Load_Factor', 'Stiffness', 'Frequency', 'Damping', 'Mass', 'vib_std',\n",
       "       'vib_max', 'Amplitude', 'Density', 'vib_mean', 'Velocity', 'Viscosity',\n",
       "       'Phase_Angle', 'vib_min', 'vib_rms', 'Pressure_In_Filtered',\n",
       "       'Temperature_In_Filtered', 'Flow_Rate_Filtered', 'Vibration_Filtered'],\n",
       "      dtype='object')"
      ]
     },
     "execution_count": 52,
     "metadata": {},
     "output_type": "execute_result"
    }
   ],
   "source": [
    "# Drop irrelevant or anomaly-detection-related columns\n",
    "drop_cols = [\n",
    "    'Timestamp', 'Time', 'Anomaly_IForest', 'Anomaly_LOF', 'Anomaly_DBSCAN',\n",
    "    'Anomaly_Autoencoder', 'Anomaly_Score', 'Final_Anomaly', 'Label'\n",
    "]\n",
    "\n",
    "# Define your target variable (choose based on your focus)\n",
    "target_variable = 'Efficiency'\n",
    "\n",
    "# Remaining relevant features (auto-filtered)\n",
    "rto_df = df.drop(columns=drop_cols)\n",
    "\n",
    "# Drop rows with missing values (if any)\n",
    "rto_df = rto_df.dropna()\n",
    "\n",
    "# Show updated shape and columns\n",
    "print(f\"Cleaned RTO dataframe shape: {rto_df.shape}\")\n",
    "rto_df.columns"
   ]
  },
  {
   "cell_type": "markdown",
   "id": "39b9806c-7a7d-493c-b2f0-4e3a2c89eda0",
   "metadata": {},
   "source": [
    "# Correlation Check"
   ]
  },
  {
   "cell_type": "code",
   "execution_count": 53,
   "id": "71bbe205-d5c7-4c2e-9b8a-98decba037ee",
   "metadata": {},
   "outputs": [
    {
     "data": {
      "image/png": "[encoded data removed]",
      "text/plain": [
       "<Figure size 1200x1000 with 2 Axes>"
      ]
     },
     "metadata": {},
     "output_type": "display_data"
    }
   ],
   "source": [
    "# Correlation matrix\n",
    "numeric_df = rto_df.select_dtypes(include='number')\n",
    "\n",
    "plt.figure(figsize=(12, 10))\n",
    "corr = numeric_df.corr()[[target_variable]].sort_values(by=target_variable, ascending=False)\n",
    "sns.heatmap(corr, annot=True, cmap='coolwarm')\n",
    "plt.title(f'Correlation with {target_variable}')\n",
    "plt.show()"
   ]
  },
  {
   "cell_type": "markdown",
   "id": "abfc67a6-5eb5-4bf4-8427-dd379c9b3598",
   "metadata": {},
   "source": [
    "# Statistical profiling of real sensor ranges"
   ]
  },
  {
   "cell_type": "code",
   "execution_count": 54,
   "id": "f205e23c-544a-4847-b046-aa3c54a286b3",
   "metadata": {},
   "outputs": [
    {
     "data": {
      "text/html": [
       "<div>\n",
       "<style scoped>\n",
       "    .dataframe tbody tr th:only-of-type {\n",
       "        vertical-align: middle;\n",
       "    }\n",
       "\n",
       "    .dataframe tbody tr th {\n",
       "        vertical-align: top;\n",
       "    }\n",
       "\n",
       "    .dataframe thead th {\n",
       "        text-align: right;\n",
       "    }\n",
       "</style>\n",
       "<table border=\"1\" class=\"dataframe\">\n",
       "  <thead>\n",
       "    <tr style=\"text-align: right;\">\n",
       "      <th></th>\n",
       "      <th>min</th>\n",
       "      <th>mean</th>\n",
       "      <th>std</th>\n",
       "      <th>25%</th>\n",
       "      <th>50%</th>\n",
       "      <th>75%</th>\n",
       "      <th>max</th>\n",
       "    </tr>\n",
       "  </thead>\n",
       "  <tbody>\n",
       "    <tr>\n",
       "      <th>Pressure_In</th>\n",
       "      <td>3.103911</td>\n",
       "      <td>3.500083</td>\n",
       "      <td>0.149954</td>\n",
       "      <td>3.367158</td>\n",
       "      <td>3.500198</td>\n",
       "      <td>3.633266</td>\n",
       "      <td>3.885274</td>\n",
       "    </tr>\n",
       "    <tr>\n",
       "      <th>Temperature_In</th>\n",
       "      <td>11.565104</td>\n",
       "      <td>19.851396</td>\n",
       "      <td>3.674704</td>\n",
       "      <td>16.469988</td>\n",
       "      <td>19.856294</td>\n",
       "      <td>23.230476</td>\n",
       "      <td>28.675928</td>\n",
       "    </tr>\n",
       "    <tr>\n",
       "      <th>Flow_Rate</th>\n",
       "      <td>11.130454</td>\n",
       "      <td>12.000067</td>\n",
       "      <td>0.367424</td>\n",
       "      <td>11.662399</td>\n",
       "      <td>12.000636</td>\n",
       "      <td>12.337798</td>\n",
       "      <td>12.835353</td>\n",
       "    </tr>\n",
       "    <tr>\n",
       "      <th>Pressure_Out</th>\n",
       "      <td>14.702065</td>\n",
       "      <td>17.520087</td>\n",
       "      <td>1.239818</td>\n",
       "      <td>16.359607</td>\n",
       "      <td>17.499735</td>\n",
       "      <td>18.674995</td>\n",
       "      <td>20.647857</td>\n",
       "    </tr>\n",
       "    <tr>\n",
       "      <th>Temperature_Out</th>\n",
       "      <td>167.117590</td>\n",
       "      <td>193.101229</td>\n",
       "      <td>8.061821</td>\n",
       "      <td>187.559640</td>\n",
       "      <td>194.882853</td>\n",
       "      <td>199.448647</td>\n",
       "      <td>211.862818</td>\n",
       "    </tr>\n",
       "    <tr>\n",
       "      <th>Vibration</th>\n",
       "      <td>0.523325</td>\n",
       "      <td>0.999698</td>\n",
       "      <td>0.217959</td>\n",
       "      <td>0.794291</td>\n",
       "      <td>1.000075</td>\n",
       "      <td>1.204116</td>\n",
       "      <td>1.505208</td>\n",
       "    </tr>\n",
       "    <tr>\n",
       "      <th>Ambient_Temperature</th>\n",
       "      <td>16.255462</td>\n",
       "      <td>25.006518</td>\n",
       "      <td>3.676794</td>\n",
       "      <td>21.624763</td>\n",
       "      <td>25.015375</td>\n",
       "      <td>28.395021</td>\n",
       "      <td>34.274941</td>\n",
       "    </tr>\n",
       "    <tr>\n",
       "      <th>Humidity</th>\n",
       "      <td>32.254264</td>\n",
       "      <td>50.010321</td>\n",
       "      <td>7.358204</td>\n",
       "      <td>43.244448</td>\n",
       "      <td>50.017302</td>\n",
       "      <td>56.774270</td>\n",
       "      <td>67.646258</td>\n",
       "    </tr>\n",
       "  </tbody>\n",
       "</table>\n",
       "</div>"
      ],
      "text/plain": [
       "                            min        mean       std         25%         50%  \\\n",
       "Pressure_In            3.103911    3.500083  0.149954    3.367158    3.500198   \n",
       "Temperature_In        11.565104   19.851396  3.674704   16.469988   19.856294   \n",
       "Flow_Rate             11.130454   12.000067  0.367424   11.662399   12.000636   \n",
       "Pressure_Out          14.702065   17.520087  1.239818   16.359607   17.499735   \n",
       "Temperature_Out      167.117590  193.101229  8.061821  187.559640  194.882853   \n",
       "Vibration              0.523325    0.999698  0.217959    0.794291    1.000075   \n",
       "Ambient_Temperature   16.255462   25.006518  3.676794   21.624763   25.015375   \n",
       "Humidity              32.254264   50.010321  7.358204   43.244448   50.017302   \n",
       "\n",
       "                            75%         max  \n",
       "Pressure_In            3.633266    3.885274  \n",
       "Temperature_In        23.230476   28.675928  \n",
       "Flow_Rate             12.337798   12.835353  \n",
       "Pressure_Out          18.674995   20.647857  \n",
       "Temperature_Out      199.448647  211.862818  \n",
       "Vibration              1.204116    1.505208  \n",
       "Ambient_Temperature   28.395021   34.274941  \n",
       "Humidity              56.774270   67.646258  "
      ]
     },
     "execution_count": 54,
     "metadata": {},
     "output_type": "execute_result"
    }
   ],
   "source": [
    "# Let's define numerical features relevant to sensor readings\n",
    "sensor_columns = [\n",
    "    'Pressure_In', 'Temperature_In', 'Flow_Rate', 'Pressure_Out', \n",
    "    'Temperature_Out', 'Vibration', 'Ambient_Temperature', 'Humidity'\n",
    "]\n",
    "\n",
    "# Show basic statistics\n",
    "sensor_stats = df[sensor_columns].describe().T\n",
    "sensor_stats[['min', 'mean', 'std', '25%', '50%', '75%', 'max']]\n"
   ]
  },
  {
   "cell_type": "markdown",
   "id": "fc4e07c9-ea5f-48e1-8775-069146935d55",
   "metadata": {},
   "source": [
    "# Define normal operating range using percentiles"
   ]
  },
  {
   "cell_type": "code",
   "execution_count": 55,
   "id": "69550150-0a3c-42f4-8d37-9b14c10e8693",
   "metadata": {},
   "outputs": [
    {
     "data": {
      "text/html": [
       "<div>\n",
       "<style scoped>\n",
       "    .dataframe tbody tr th:only-of-type {\n",
       "        vertical-align: middle;\n",
       "    }\n",
       "\n",
       "    .dataframe tbody tr th {\n",
       "        vertical-align: top;\n",
       "    }\n",
       "\n",
       "    .dataframe thead th {\n",
       "        text-align: right;\n",
       "    }\n",
       "</style>\n",
       "<table border=\"1\" class=\"dataframe\">\n",
       "  <thead>\n",
       "    <tr style=\"text-align: right;\">\n",
       "      <th></th>\n",
       "      <th>lower</th>\n",
       "      <th>upper</th>\n",
       "    </tr>\n",
       "  </thead>\n",
       "  <tbody>\n",
       "    <tr>\n",
       "      <th>Pressure_In</th>\n",
       "      <td>3.273689</td>\n",
       "      <td>3.726374</td>\n",
       "    </tr>\n",
       "    <tr>\n",
       "      <th>Temperature_In</th>\n",
       "      <td>14.420218</td>\n",
       "      <td>25.302496</td>\n",
       "    </tr>\n",
       "    <tr>\n",
       "      <th>Flow_Rate</th>\n",
       "      <td>11.456246</td>\n",
       "      <td>12.544016</td>\n",
       "    </tr>\n",
       "    <tr>\n",
       "      <th>Pressure_Out</th>\n",
       "      <td>15.721742</td>\n",
       "      <td>19.363339</td>\n",
       "    </tr>\n",
       "    <tr>\n",
       "      <th>Temperature_Out</th>\n",
       "      <td>177.686276</td>\n",
       "      <td>203.617132</td>\n",
       "    </tr>\n",
       "    <tr>\n",
       "      <th>Vibration</th>\n",
       "      <td>0.681146</td>\n",
       "      <td>1.318489</td>\n",
       "    </tr>\n",
       "    <tr>\n",
       "      <th>Ambient_Temperature</th>\n",
       "      <td>19.553522</td>\n",
       "      <td>30.447234</td>\n",
       "    </tr>\n",
       "    <tr>\n",
       "      <th>Humidity</th>\n",
       "      <td>39.118962</td>\n",
       "      <td>60.890313</td>\n",
       "    </tr>\n",
       "  </tbody>\n",
       "</table>\n",
       "</div>"
      ],
      "text/plain": [
       "                          lower       upper\n",
       "Pressure_In            3.273689    3.726374\n",
       "Temperature_In        14.420218   25.302496\n",
       "Flow_Rate             11.456246   12.544016\n",
       "Pressure_Out          15.721742   19.363339\n",
       "Temperature_Out      177.686276  203.617132\n",
       "Vibration              0.681146    1.318489\n",
       "Ambient_Temperature   19.553522   30.447234\n",
       "Humidity              39.118962   60.890313"
      ]
     },
     "execution_count": 55,
     "metadata": {},
     "output_type": "execute_result"
    }
   ],
   "source": [
    "# Create a DataFrame to hold limits\n",
    "normal_ranges = pd.DataFrame(index=sensor_columns, columns=['lower', 'upper'])\n",
    "\n",
    "for col in sensor_columns:\n",
    "    lower = df[col].quantile(0.05)\n",
    "    upper = df[col].quantile(0.95)\n",
    "    normal_ranges.loc[col] = [lower, upper]\n",
    "\n",
    "normal_ranges\n"
   ]
  },
  {
   "cell_type": "markdown",
   "id": "74fb3368-3cb7-4665-af80-986d9065fde1",
   "metadata": {},
   "source": [
    "# Filter data points within normal operating ranges"
   ]
  },
  {
   "cell_type": "code",
   "execution_count": 56,
   "id": "d7f7dbed-bb8a-4d10-9ddf-d735ef5b8ee6",
   "metadata": {},
   "outputs": [
    {
     "name": "stdout",
     "output_type": "stream",
     "text": [
      "Number of data points within new realistic constraints: 45871\n"
     ]
    }
   ],
   "source": [
    "# Start with all True mask\n",
    "within_constraints_mask = pd.Series(True, index=df.index)\n",
    "\n",
    "for col in sensor_columns:\n",
    "    lower = normal_ranges.loc[col, 'lower']\n",
    "    upper = normal_ranges.loc[col, 'upper']\n",
    "    within_constraints_mask &= (df[col] >= lower) & (df[col] <= upper)\n",
    "\n",
    "# Filtered DataFrame\n",
    "df_within_constraints = df[within_constraints_mask]\n",
    "\n",
    "print(\"Number of data points within new realistic constraints:\", len(df_within_constraints))\n"
   ]
  },
  {
   "cell_type": "code",
   "execution_count": null,
   "id": "c02c6964-9d20-4fdb-b5bc-3628c962fb3c",
   "metadata": {},
   "outputs": [],
   "source": [
    "# Plot "
   ]
  },
  {
   "cell_type": "code",
   "execution_count": 57,
   "id": "b68e6c0c-4174-4aad-9591-131aa4676733",
   "metadata": {},
   "outputs": [
    {
     "data": {
      "image/png": "[encoded data removed]",
      "text/plain": [
       "<Figure size 600x600 with 1 Axes>"
      ]
     },
     "metadata": {},
     "output_type": "display_data"
    }
   ],
   "source": [
    "import matplotlib.pyplot as plt\n",
    "\n",
    "# Count of data points within and outside constraints\n",
    "within_count = len(df_within_constraints)\n",
    "outside_count = len(df) - within_count\n",
    "\n",
    "# Create a series for plotting\n",
    "distribution = pd.Series([outside_count, within_count], index=[\"Out of bounds\", \"Within constraints\"])\n",
    "\n",
    "# Plot pie chart\n",
    "plt.figure(figsize=(6, 6))\n",
    "distribution.plot(kind='pie', autopct='%1.1f%%', colors=[\"red\", \"green\"])\n",
    "plt.title(\"Data Distribution by Operational Constraint Satisfaction\")\n",
    "plt.ylabel(\"\")  # Hide y-label for cleaner plot\n",
    "plt.show()\n"
   ]
  },
  {
   "cell_type": "markdown",
   "id": "8f8b8a8b-19c3-4adc-9f64-f363d9af583d",
   "metadata": {},
   "source": [
    "# RL (PPO)"
   ]
  },
  {
   "cell_type": "markdown",
   "id": "9561f4a7-256f-4d2d-97a0-1d64d5f83eac",
   "metadata": {},
   "source": [
    "##  Define custom RL environment for compressor control"
   ]
  },
  {
   "cell_type": "code",
   "execution_count": 58,
   "id": "dd4b0841-04f8-464b-b750-00cbf041bf11",
   "metadata": {},
   "outputs": [
    {
     "name": "stdout",
     "output_type": "stream",
     "text": [
      "Requirement already satisfied: gym in c:\\users\\98939\\appdata\\local\\programs\\python\\python310\\lib\\site-packages (0.26.2)\n",
      "Requirement already satisfied: cloudpickle>=1.2.0 in c:\\users\\98939\\appdata\\local\\programs\\python\\python310\\lib\\site-packages (from gym) (3.1.1)\n",
      "Requirement already satisfied: gym_notices>=0.0.4 in c:\\users\\98939\\appdata\\local\\programs\\python\\python310\\lib\\site-packages (from gym) (0.0.8)\n",
      "Requirement already satisfied: numpy>=1.18.0 in c:\\users\\98939\\appdata\\local\\programs\\python\\python310\\lib\\site-packages (from gym) (2.2.6)\n"
     ]
    },
    {
     "name": "stderr",
     "output_type": "stream",
     "text": [
      "\n",
      "[notice] A new release of pip is available: 23.0.1 -> 25.1.1\n",
      "[notice] To update, run: python.exe -m pip install --upgrade pip\n"
     ]
    }
   ],
   "source": [
    "!pip install gym"
   ]
  },
  {
   "cell_type": "code",
   "execution_count": 59,
   "id": "30ec6b49-a4a7-48d8-9d40-a998c54ce9d0",
   "metadata": {},
   "outputs": [],
   "source": [
    "import gym\n",
    "from gym import spaces\n",
    "import numpy as np\n",
    "\n",
    "class CompressorEnv(gym.Env):\n",
    "    \"\"\"\n",
    "    Custom RL environment for dynamic compressor parameter adjustment.\n",
    "    State: sensor readings (pressure, temperature, flow rate, vibration)\n",
    "    Action: adjustment of control parameters (e.g., efficiency setting)\n",
    "    Reward: negative power consumption (to minimize it) + penalty if vibration above threshold\n",
    "    \"\"\"\n",
    "    def __init__(self, data, vibration_threshold=0.5):\n",
    "        super(CompressorEnv, self).__init__()\n",
    "        \n",
    "        self.data = data.reset_index(drop=True)\n",
    "        self.vibration_threshold = vibration_threshold\n",
    "        \n",
    "        # Define action space: let's say continuous adjustment [-1, 1] for one parameter (for simplicity)\n",
    "        self.action_space = spaces.Box(low=-1.0, high=1.0, shape=(1,), dtype=np.float32)\n",
    "        \n",
    "        # Define observation space: sensor features (normalized)\n",
    "        self.observation_space = spaces.Box(low=-np.inf, high=np.inf, shape=(4,), dtype=np.float32)\n",
    "        \n",
    "        self.current_step = 0\n",
    "\n",
    "    def reset(self):\n",
    "        self.current_step = 0\n",
    "        return self._get_obs()\n",
    "    \n",
    "    def _get_obs(self):\n",
    "        # Select relevant sensors at current step: Pressure_In, Temperature_In, Flow_Rate, Vibration\n",
    "        state = self.data.loc[self.current_step, ['Pressure_In', 'Temperature_In', 'Flow_Rate', 'Vibration']].values.astype(np.float32)\n",
    "        return state\n",
    "\n",
    "    def step(self, action):\n",
    "        done = False\n",
    "        \n",
    "        # Simulate effect of action (simplified): \n",
    "        # Let's say action adjusts Efficiency in range [0.9, 1.1]\n",
    "        efficiency_adjustment = 1 + 0.1 * action[0]\n",
    "        \n",
    "        # Calculate reward: negative power consumption times efficiency adjustment (we want to minimize power)\n",
    "        power = self.data.loc[self.current_step, 'Power_Consumption']\n",
    "        vibration = self.data.loc[self.current_step, 'Vibration']\n",
    "        \n",
    "        reward = -power * efficiency_adjustment\n",
    "        \n",
    "        # Add penalty if vibration above threshold\n",
    "        if vibration > self.vibration_threshold:\n",
    "            reward -= 10.0\n",
    "        \n",
    "        self.current_step += 1\n",
    "        if self.current_step >= len(self.data) - 1:\n",
    "            done = True\n",
    "        \n",
    "        obs = self._get_obs() if not done else np.zeros_like(self._get_obs())\n",
    "        \n",
    "        return obs, reward, done, {}\n"
   ]
  },
  {
   "cell_type": "markdown",
   "id": "86b8eafd-1bb2-4616-97bf-9d336442a7fb",
   "metadata": {},
   "source": [
    "## Train PPO agent on compressor environment"
   ]
  },
  {
   "cell_type": "code",
   "execution_count": 60,
   "id": "7d6bdad9-f062-436f-b7ec-a93054129933",
   "metadata": {},
   "outputs": [
    {
     "name": "stdout",
     "output_type": "stream",
     "text": [
      "Requirement already satisfied: stable-baselines3 in c:\\users\\98939\\appdata\\roaming\\python\\python310\\site-packages (2.6.0)\n",
      "Requirement already satisfied: torch<3.0,>=2.3 in c:\\users\\98939\\appdata\\local\\programs\\python\\python310\\lib\\site-packages (from stable-baselines3) (2.5.1+cu124)\n",
      "Requirement already satisfied: pandas in c:\\users\\98939\\appdata\\local\\programs\\python\\python310\\lib\\site-packages (from stable-baselines3) (2.2.2)\n",
      "Requirement already satisfied: cloudpickle in c:\\users\\98939\\appdata\\local\\programs\\python\\python310\\lib\\site-packages (from stable-baselines3) (3.1.1)\n",
      "Requirement already satisfied: matplotlib in c:\\users\\98939\\appdata\\local\\programs\\python\\python310\\lib\\site-packages (from stable-baselines3) (3.10.3)\n",
      "Requirement already satisfied: gymnasium<1.2.0,>=0.29.1 in c:\\users\\98939\\appdata\\roaming\\python\\python310\\site-packages (from stable-baselines3) (1.1.1)\n",
      "Requirement already satisfied: numpy<3.0,>=1.20 in c:\\users\\98939\\appdata\\local\\programs\\python\\python310\\lib\\site-packages (from stable-baselines3) (2.2.6)\n",
      "Requirement already satisfied: farama-notifications>=0.0.1 in c:\\users\\98939\\appdata\\local\\programs\\python\\python310\\lib\\site-packages (from gymnasium<1.2.0,>=0.29.1->stable-baselines3) (0.0.4)\n",
      "Requirement already satisfied: typing-extensions>=4.3.0 in c:\\users\\98939\\appdata\\local\\programs\\python\\python310\\lib\\site-packages (from gymnasium<1.2.0,>=0.29.1->stable-baselines3) (4.8.0)\n",
      "Requirement already satisfied: filelock in c:\\users\\98939\\appdata\\local\\programs\\python\\python310\\lib\\site-packages (from torch<3.0,>=2.3->stable-baselines3) (3.12.4)\n",
      "Requirement already satisfied: sympy==1.13.1 in c:\\users\\98939\\appdata\\local\\programs\\python\\python310\\lib\\site-packages (from torch<3.0,>=2.3->stable-baselines3) (1.13.1)\n",
      "Requirement already satisfied: networkx in c:\\users\\98939\\appdata\\local\\programs\\python\\python310\\lib\\site-packages (from torch<3.0,>=2.3->stable-baselines3) (3.1)\n",
      "Requirement already satisfied: fsspec in c:\\users\\98939\\appdata\\local\\programs\\python\\python310\\lib\\site-packages (from torch<3.0,>=2.3->stable-baselines3) (2024.6.1)\n",
      "Requirement already satisfied: jinja2 in c:\\users\\98939\\appdata\\local\\programs\\python\\python310\\lib\\site-packages (from torch<3.0,>=2.3->stable-baselines3) (3.1.2)\n",
      "Requirement already satisfied: mpmath<1.4,>=1.1.0 in c:\\users\\98939\\appdata\\local\\programs\\python\\python310\\lib\\site-packages (from sympy==1.13.1->torch<3.0,>=2.3->stable-baselines3) (1.3.0)\n",
      "Requirement already satisfied: pillow>=8 in c:\\users\\98939\\appdata\\local\\programs\\python\\python310\\lib\\site-packages (from matplotlib->stable-baselines3) (10.0.1)\n",
      "Requirement already satisfied: fonttools>=4.22.0 in c:\\users\\98939\\appdata\\local\\programs\\python\\python310\\lib\\site-packages (from matplotlib->stable-baselines3) (4.59.0)\n",
      "Requirement already satisfied: cycler>=0.10 in c:\\users\\98939\\appdata\\local\\programs\\python\\python310\\lib\\site-packages (from matplotlib->stable-baselines3) (0.12.1)\n",
      "Requirement already satisfied: packaging>=20.0 in c:\\users\\98939\\appdata\\local\\programs\\python\\python310\\lib\\site-packages (from matplotlib->stable-baselines3) (24.0)\n",
      "Requirement already satisfied: kiwisolver>=1.3.1 in c:\\users\\98939\\appdata\\local\\programs\\python\\python310\\lib\\site-packages (from matplotlib->stable-baselines3) (1.4.8)\n",
      "Requirement already satisfied: python-dateutil>=2.7 in c:\\users\\98939\\appdata\\local\\programs\\python\\python310\\lib\\site-packages (from matplotlib->stable-baselines3) (2.9.0.post0)\n",
      "Requirement already satisfied: contourpy>=1.0.1 in c:\\users\\98939\\appdata\\local\\programs\\python\\python310\\lib\\site-packages (from matplotlib->stable-baselines3) (1.3.2)\n",
      "Requirement already satisfied: pyparsing>=2.3.1 in c:\\users\\98939\\appdata\\local\\programs\\python\\python310\\lib\\site-packages (from matplotlib->stable-baselines3) (3.2.3)\n",
      "Requirement already satisfied: pytz>=2020.1 in c:\\users\\98939\\appdata\\local\\programs\\python\\python310\\lib\\site-packages (from pandas->stable-baselines3) (2024.1)\n",
      "Requirement already satisfied: tzdata>=2022.7 in c:\\users\\98939\\appdata\\local\\programs\\python\\python310\\lib\\site-packages (from pandas->stable-baselines3) (2024.1)\n",
      "Requirement already satisfied: six>=1.5 in c:\\users\\98939\\appdata\\local\\programs\\python\\python310\\lib\\site-packages (from python-dateutil>=2.7->matplotlib->stable-baselines3) (1.16.0)\n",
      "Requirement already satisfied: MarkupSafe>=2.0 in c:\\users\\98939\\appdata\\local\\programs\\python\\python310\\lib\\site-packages (from jinja2->torch<3.0,>=2.3->stable-baselines3) (2.1.3)\n"
     ]
    },
    {
     "name": "stderr",
     "output_type": "stream",
     "text": [
      "\n",
      "[notice] A new release of pip is available: 23.0.1 -> 25.1.1\n",
      "[notice] To update, run: python.exe -m pip install --upgrade pip\n"
     ]
    }
   ],
   "source": [
    "!pip install stable-baselines3"
   ]
  },
  {
   "cell_type": "code",
   "execution_count": 69,
   "id": "6b678a36-9189-438f-a180-dac22e3427cd",
   "metadata": {},
   "outputs": [
    {
     "ename": "ModuleNotFoundError",
     "evalue": "No module named 'stable_baselines3'",
     "output_type": "error",
     "traceback": [
      "\u001b[1;31m---------------------------------------------------------------------------\u001b[0m",
      "\u001b[1;31mModuleNotFoundError\u001b[0m                       Traceback (most recent call last)",
      "Cell \u001b[1;32mIn[69], line 1\u001b[0m\n\u001b[1;32m----> 1\u001b[0m \u001b[38;5;28;01mimport\u001b[39;00m \u001b[38;5;21;01mstable_baselines3\u001b[39;00m\n\u001b[0;32m      3\u001b[0m \u001b[38;5;66;03m# Filter dataset to only rows within operational constraints \u001b[39;00m\n\u001b[0;32m      4\u001b[0m df_within_constraints \u001b[38;5;241m=\u001b[39m df[(df[\u001b[38;5;124m'\u001b[39m\u001b[38;5;124mVibration\u001b[39m\u001b[38;5;124m'\u001b[39m] \u001b[38;5;241m<\u001b[39m\u001b[38;5;241m=\u001b[39m \u001b[38;5;241m0.5\u001b[39m)]  \n",
      "\u001b[1;31mModuleNotFoundError\u001b[0m: No module named 'stable_baselines3'"
     ]
    }
   ],
   "source": [
    "from stable_baselines3 import PPO\n",
    "\n",
    "# Filter dataset to only rows within operational constraints \n",
    "df_within_constraints = df[(df['Vibration'] <= 0.5)]  \n",
    "\n",
    "env = CompressorEnv(df_within_constraints, vibration_threshold=0.5)\n",
    "\n",
    "model = PPO(\"MlpPolicy\", env, verbose=1)\n",
    "\n",
    "# Train for 10000 steps \n",
    "model.learn(total_timesteps=10000)\n"
   ]
  },
  {
   "cell_type": "markdown",
   "id": "1be7ea5a-7d16-46c2-9239-5b7a72844cd8",
   "metadata": {},
   "source": [
    "## Evaluate trained agent performance"
   ]
  },
  {
   "cell_type": "code",
   "execution_count": null,
   "id": "273ffca7-9b94-4ba1-aed2-552cb8158168",
   "metadata": {},
   "outputs": [],
   "source": [
    "obs = env.reset()\n",
    "done = False\n",
    "rewards = []\n",
    "actions = []\n",
    "\n",
    "while not done:\n",
    "    action, _states = model.predict(obs)\n",
    "    obs, reward, done, info = env.step(action)\n",
    "    rewards.append(reward)\n",
    "    actions.append(action)\n",
    "\n",
    "print(f\"Total reward collected by agent: {sum(rewards)}\")\n",
    "\n",
    "import matplotlib.pyplot as plt\n",
    "plt.plot(rewards)\n",
    "plt.title('Reward Over Time')\n",
    "plt.xlabel('Step')\n",
    "plt.ylabel('Reward')\n",
    "plt.show()\n"
   ]
  },
  {
   "cell_type": "markdown",
   "id": "4d49d215-b347-4b7b-8c50-0105f01c8156",
   "metadata": {},
   "source": [
    "# MPC"
   ]
  },
  {
   "cell_type": "markdown",
   "id": "2ae43792-846a-4550-9f1a-e39893c54c5f",
   "metadata": {},
   "source": [
    "Simple MPC Implementation for Compressor Vibration Minimization"
   ]
  },
  {
   "cell_type": "markdown",
   "id": "ac160bde-499b-4468-b40a-2178d24eb9fc",
   "metadata": {},
   "source": [
    "## Libraries"
   ]
  },
  {
   "cell_type": "markdown",
   "id": "f847c62e-2be6-40ab-87de-26756fbb6ffa",
   "metadata": {},
   "source": [
    "Load and preprocess data (assuming df is your filtered DataFrame within constraints)\n",
    "Use relevant features as inputs and vibration as output"
   ]
  },
  {
   "cell_type": "code",
   "execution_count": 70,
   "id": "2e14bb60-f19d-4b86-b242-f22395b9fbc6",
   "metadata": {},
   "outputs": [],
   "source": [
    "import numpy as np\n",
    "import pandas as pd\n",
    "from sklearn.ensemble import RandomForestRegressor\n",
    "from scipy.optimize import minimize"
   ]
  },
  {
   "cell_type": "markdown",
   "id": "f673444f-a688-4134-a33c-72e21b311338",
   "metadata": {},
   "source": [
    "## Features selected based on domain knowledge and correlation analysis"
   ]
  },
  {
   "cell_type": "code",
   "execution_count": 71,
   "id": "cfef3205-0c88-4285-abdb-4af9e9e062df",
   "metadata": {},
   "outputs": [],
   "source": [
    "features = ['Pressure_In', 'Temperature_In', 'Flow_Rate', 'Efficiency']\n",
    "target = 'Vibration'\n",
    "\n",
    "X = df[features]\n",
    "y = df[target]"
   ]
  },
  {
   "cell_type": "markdown",
   "id": "355fc339-79be-4de0-ad7d-4e8bd2227ce1",
   "metadata": {},
   "source": [
    "## Train a regression model to predict vibration"
   ]
  },
  {
   "cell_type": "code",
   "execution_count": null,
   "id": "2cbe7e90-712a-49d2-bb92-c6fbaa29aeda",
   "metadata": {},
   "outputs": [],
   "source": [
    "model = RandomForestRegressor(n_estimators=100, random_state=42)\n",
    "model.fit(X, y)"
   ]
  },
  {
   "cell_type": "markdown",
   "id": "5397c7d3-a795-4a23-9e6c-397f0b497ad5",
   "metadata": {},
   "source": [
    "## Define the MPC objective function: predicted vibration by the model"
   ]
  },
  {
   "cell_type": "code",
   "execution_count": null,
   "id": "bc5cf0c7-14b4-4379-80b3-b7058402c2d2",
   "metadata": {},
   "outputs": [],
   "source": [
    "def mpc_objective(x):\n",
    "    \"\"\"\n",
    "    Predict vibration given compressor parameters.\n",
    "    x: array of inputs [Pressure_In, Temperature_In, Flow_Rate, Efficiency]\n",
    "    Returns predicted vibration to be minimized.\n",
    "    \"\"\"\n",
    "    x_reshaped = np.array(x).reshape(1, -1)\n",
    "    pred_vib = model.predict(x_reshaped)[0]\n",
    "    return pred_vib"
   ]
  },
  {
   "cell_type": "markdown",
   "id": "002dd281-9543-458f-ad72-d974c25cdfaa",
   "metadata": {},
   "source": [
    "## Define realistic bounds for the control variables based on data statistics"
   ]
  },
  {
   "cell_type": "code",
   "execution_count": null,
   "id": "3d8f710f-732d-4adc-99fc-95da6cfbf7d5",
   "metadata": {},
   "outputs": [],
   "source": [
    "bounds = [\n",
    "    (df['Pressure_In'].min(), df['Pressure_In'].max()),\n",
    "    (df['Temperature_In'].min(), df['Temperature_In'].max()),\n",
    "    (df['Flow_Rate'].min(), df['Flow_Rate'].max()),\n",
    "    (df['Efficiency'].min(), df['Efficiency'].max())\n",
    "]"
   ]
  },
  {
   "cell_type": "markdown",
   "id": "f8f89096-c46a-47c8-9131-2134b10158d7",
   "metadata": {},
   "source": [
    "## Initial guess for the optimizer (mean values)"
   ]
  },
  {
   "cell_type": "code",
   "execution_count": null,
   "id": "3f38e66a-67b1-4353-b1ed-4711fdb40ce2",
   "metadata": {},
   "outputs": [],
   "source": [
    "x0 = [\n",
    "    df['Pressure_In'].mean(),\n",
    "    df['Temperature_In'].mean(),\n",
    "    df['Flow_Rate'].mean(),\n",
    "    df['Efficiency'].mean()\n",
    "]"
   ]
  },
  {
   "cell_type": "markdown",
   "id": "d3c28667-9329-43ec-bc3b-d105b3d1bcd6",
   "metadata": {},
   "source": [
    "## Run the optimizer to find input parameters minimizing vibration"
   ]
  },
  {
   "cell_type": "code",
   "execution_count": null,
   "id": "7e1a7dfd-4a67-4639-83c3-7a46a6a25345",
   "metadata": {},
   "outputs": [],
   "source": [
    "result = minimize(mpc_objective, x0, bounds=bounds, method='L-BFGS-B')\n",
    "\n",
    "# Step 7: Output the optimal parameters and predicted vibration\n",
    "print(\"Optimal parameters found by MPC:\")\n",
    "for feat, val in zip(features, result.x):\n",
    "    print(f\"{feat}: {val:.3f}\")\n",
    "\n",
    "print(f\"Predicted minimum vibration: {result.fun:.4f}\")"
   ]
  }
 ],
 "metadata": {
  "kernelspec": {
   "display_name": "Python 3 (ipykernel)",
   "language": "python",
   "name": "python3"
  },
  "language_info": {
   "codemirror_mode": {
    "name": "ipython",
    "version": 3
   },
   "file_extension": ".py",
   "mimetype": "text/x-python",
   "name": "python",
   "nbconvert_exporter": "python",
   "pygments_lexer": "ipython3",
   "version": "3.10.11"
  }
 },
 "nbformat": 4,
 "nbformat_minor": 5
}
