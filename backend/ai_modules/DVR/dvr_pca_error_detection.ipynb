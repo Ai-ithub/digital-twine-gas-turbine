{
  "nbformat": 4,
  "nbformat_minor": 0,
  "metadata": {
    "colab": {
      "provenance": []
    },
    "kernelspec": {
      "name": "python3",
      "display_name": "Python 3"
    },
    "language_info": {
      "name": "python"
    }
  },
  "cells": [
    {
      "cell_type": "markdown",
      "source": [
        "# PCA-Based Gross Error Detection\n",
        "\n",
        "### 🎯 Objective:\n",
        "Detect gross sensor errors using Principal Component Analysis (PCA), by identifying multivariate outliers based on reconstruction error.\n",
        "\n",
        "---\n",
        "\n",
        "### 🧠 Why PCA?\n",
        "In physical systems like gas compressors, features such as pressure, temperature, flow rate, and vibration are often correlated.  \n",
        "If one or more sensors fail or behave abnormally, the structure of this correlation is disrupted.\n",
        "\n",
        "PCA captures this correlation structure:\n",
        "- It projects data into a lower-dimensional space that retains the dominant patterns\n",
        "- Reconstruction error indicates how much each data point deviates from those learned patterns\n"
      ],
      "metadata": {
        "id": "uFL3qK66DRFX"
      }
    },
    {
      "cell_type": "code",
      "execution_count": null,
      "metadata": {
        "id": "_kqxih2VDLjO"
      },
      "outputs": [],
      "source": [
        "import pandas as pd\n",
        "import numpy as np\n",
        "from sklearn.decomposition import PCA\n",
        "from sklearn.preprocessing import StandardScaler\n",
        "import matplotlib.pyplot as plt\n",
        "\n",
        "# Assume df is your dataset with compressor features\n",
        "features = [\"Pressure_In\", \"Temperature_In\", \"Flow_Rate\", \"Efficiency\", \"Vibration\"]\n",
        "df_clean = df[features].dropna()\n",
        "\n",
        "# Normalize the features\n",
        "scaler = StandardScaler()\n",
        "X_scaled = scaler.fit_transform(df_clean)\n",
        "\n",
        "# Apply PCA\n",
        "pca = PCA(n_components=5)\n",
        "X_pca = pca.fit_transform(X_scaled)\n",
        "\n",
        "# Reconstruct the input\n",
        "X_reconstructed = pca.inverse_transform(X_pca)\n",
        "reconstruction_error = np.mean((X_scaled - X_reconstructed) ** 2, axis=1)\n",
        "\n",
        "# Threshold at 95th percentile\n",
        "threshold = np.percentile(reconstruction_error, 95)\n",
        "outlier_indices = np.where(reconstruction_error > threshold)[0]\n",
        "\n",
        "print(f\"Number of suspected gross errors: {len(outlier_indices)}\")"
      ]
    },
    {
      "cell_type": "markdown",
      "source": [
        "## Ploting"
      ],
      "metadata": {
        "id": "PM3sfj56DaMM"
      }
    },
    {
      "cell_type": "code",
      "source": [
        "# Plot reconstruction error\n",
        "plt.figure(figsize=(10, 4))\n",
        "plt.hist(reconstruction_error, bins=100, color='skyblue')\n",
        "plt.axvline(threshold, color='red', linestyle='--', label=f\"95th percentile threshold\")\n",
        "plt.title(\"PCA Reconstruction Error Distribution\")\n",
        "plt.xlabel(\"Error\")\n",
        "plt.ylabel(\"Frequency\")\n",
        "plt.legend()\n",
        "plt.show()"
      ],
      "metadata": {
        "id": "Z03guTYKDdL_"
      },
      "execution_count": null,
      "outputs": []
    },
    {
      "cell_type": "markdown",
      "source": [
        "### further changes..."
      ],
      "metadata": {
        "id": "pUpN0FBcDmus"
      }
    }
  ]
}